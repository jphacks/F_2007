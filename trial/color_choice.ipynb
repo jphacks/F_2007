{
 "cells": [
  {
   "cell_type": "code",
   "execution_count": 1,
   "metadata": {
    "scrolled": true
   },
   "outputs": [],
   "source": [
    "from transformers import AutoModel, AutoTokenizer"
   ]
  },
  {
   "cell_type": "code",
   "execution_count": 3,
   "metadata": {
    "scrolled": true
   },
   "outputs": [
    {
     "data": {
      "application/vnd.jupyter.widget-view+json": {
       "model_id": "440d6a42902e4ef2a749fc8107f55d11",
       "version_major": 2,
       "version_minor": 0
      },
      "text/plain": [
       "HBox(children=(FloatProgress(value=0.0, description='Downloading', max=433.0, style=ProgressStyle(description_…"
      ]
     },
     "metadata": {},
     "output_type": "display_data"
    },
    {
     "name": "stdout",
     "output_type": "stream",
     "text": [
      "\n"
     ]
    },
    {
     "data": {
      "application/vnd.jupyter.widget-view+json": {
       "model_id": "f977d1a1b8a341549c43b7b1f1600b5f",
       "version_major": 2,
       "version_minor": 0
      },
      "text/plain": [
       "HBox(children=(FloatProgress(value=0.0, description='Downloading', max=257706.0, style=ProgressStyle(descripti…"
      ]
     },
     "metadata": {},
     "output_type": "display_data"
    },
    {
     "name": "stdout",
     "output_type": "stream",
     "text": [
      "\n"
     ]
    }
   ],
   "source": [
    "# tokenizer = AutoTokenizer.from_pretrained(\"bert-base-japanese-whole-word-masking\")\n",
    "tokenizer = AutoTokenizer.from_pretrained(\"cl-tohoku/bert-base-japanese-whole-word-masking\")"
   ]
  },
  {
   "cell_type": "code",
   "execution_count": 4,
   "metadata": {},
   "outputs": [],
   "source": [
    "model = AutoModel.from_pretrained(\"/Users/kubota/Sandbox/JPHACKS_2020/DistilBERT-base-jp\")"
   ]
  },
  {
   "cell_type": "code",
   "execution_count": 5,
   "metadata": {},
   "outputs": [],
   "source": [
    "import torch\n",
    "def get_embedding(model, tokenizer, text):\n",
    "  tokenized_text = tokenizer.tokenize(text)\n",
    "  tokenized_text.insert(0, '[CLS]')\n",
    "  tokenized_text.append('[SEP]')\n",
    "  tokens = tokenizer.convert_tokens_to_ids(tokenized_text)\n",
    "  tokens_tensor = torch.tensor([tokens])\n",
    "  model.eval()\n",
    "  with torch.no_grad():\n",
    "      layers, _ = model(tokens_tensor)\n",
    "  target_layer = -2\n",
    "  embedding = layers[0][target_layer].numpy()\n",
    "  return embedding"
   ]
  },
  {
   "cell_type": "code",
   "execution_count": 6,
   "metadata": {},
   "outputs": [],
   "source": [
    "import numpy as np\n",
    "embedding_list = []\n",
    "f = open('./input.txt')\n",
    "sentens = f.readlines()\n",
    "f.close()"
   ]
  },
  {
   "cell_type": "code",
   "execution_count": 7,
   "metadata": {},
   "outputs": [],
   "source": [
    "for s in sentens:\n",
    "  mbedding = get_embedding(model, tokenizer, s.strip())\n",
    "  embedding_list.append(mbedding)"
   ]
  },
  {
   "cell_type": "code",
   "execution_count": 9,
   "metadata": {
    "scrolled": true
   },
   "outputs": [
    {
     "data": {
      "text/plain": [
       "768"
      ]
     },
     "execution_count": 9,
     "metadata": {},
     "output_type": "execute_result"
    }
   ],
   "source": [
    "len(mbedding)"
   ]
  },
  {
   "cell_type": "code",
   "execution_count": 12,
   "metadata": {},
   "outputs": [
    {
     "data": {
      "text/plain": [
       "8"
      ]
     },
     "execution_count": 12,
     "metadata": {},
     "output_type": "execute_result"
    }
   ],
   "source": [
    "len(embedding_list)"
   ]
  },
  {
   "cell_type": "code",
   "execution_count": 17,
   "metadata": {},
   "outputs": [],
   "source": [
    "from sklearn.decomposition import PCA"
   ]
  },
  {
   "cell_type": "code",
   "execution_count": 18,
   "metadata": {},
   "outputs": [],
   "source": [
    "pca = PCA(n_components = 2)"
   ]
  },
  {
   "cell_type": "code",
   "execution_count": 20,
   "metadata": {},
   "outputs": [],
   "source": [
    "res = pca.fit_transform(X = embedding_list)"
   ]
  },
  {
   "cell_type": "code",
   "execution_count": 21,
   "metadata": {},
   "outputs": [
    {
     "data": {
      "text/plain": [
       "array([[-0.25370023,  0.23860802],\n",
       "       [-0.19150423,  0.08474937],\n",
       "       [-0.27681419,  0.18703732],\n",
       "       [-0.15340472, -0.09621814],\n",
       "       [-0.07869163, -0.18188444],\n",
       "       [ 0.12911509, -0.2121823 ],\n",
       "       [ 0.81688903,  0.15705827],\n",
       "       [ 0.00811088, -0.1771681 ]])"
      ]
     },
     "execution_count": 21,
     "metadata": {},
     "output_type": "execute_result"
    }
   ],
   "source": [
    "res"
   ]
  },
  {
   "cell_type": "code",
   "execution_count": 26,
   "metadata": {},
   "outputs": [],
   "source": [
    "import matplotlib.pyplot as plt\n",
    "import japanize_matplotlib"
   ]
  },
  {
   "cell_type": "code",
   "execution_count": 27,
   "metadata": {
    "scrolled": false
   },
   "outputs": [
    {
     "data": {
      "image/png": "[encoded data removed]",
      "text/plain": [
       "<Figure size 432x288 with 1 Axes>"
      ]
     },
     "metadata": {
      "needs_background": "light"
     },
     "output_type": "display_data"
    }
   ],
   "source": [
    "plt.scatter(res[:,0], res[:, 1])\n",
    "for i in range(len(res)):\n",
    "    plt.text(x = res[i,0], y = res[i, 1], s = sentens[i])"
   ]
  },
  {
   "cell_type": "code",
   "execution_count": 37,
   "metadata": {},
   "outputs": [],
   "source": [
    "embedding_list = []\n",
    "f = open('./colorlist.txt')\n",
    "sentens = f.readlines()\n",
    "f.close()\n",
    "for s in sentens:\n",
    "  mbedding = get_embedding(model, tokenizer, s.strip())\n",
    "  embedding_list.append(mbedding)"
   ]
  },
  {
   "cell_type": "code",
   "execution_count": 42,
   "metadata": {
    "scrolled": false
   },
   "outputs": [
    {
     "data": {
      "image/png": "[encoded data removed]",
      "text/plain": [
       "<Figure size 1080x360 with 1 Axes>"
      ]
     },
     "metadata": {
      "needs_background": "light"
     },
     "output_type": "display_data"
    }
   ],
   "source": [
    "pca = PCA(n_components = 2)\n",
    "res = pca.fit_transform(X = embedding_list)\n",
    "plt.figure(figsize = (15,5))\n",
    "plt.scatter(res[:,0], res[:, 1])\n",
    "for i in range(len(res)):\n",
    "    plt.text(x = res[i,0], y = res[i, 1], s = sentens[i])\n",
    "    \n",
    "plt.savefig(\"color_pca.png\")"
   ]
  },
  {
   "cell_type": "code",
   "execution_count": 75,
   "metadata": {},
   "outputs": [],
   "source": [
    "f = open('./colorlist.txt')\n",
    "sentens = f.readlines()\n",
    "f.close()\n",
    "\n",
    "test_text = \"光\"\n",
    "sentens.append(test_text)\n",
    "\n",
    "embedding_list = []\n",
    "for s in sentens:\n",
    "  mbedding = get_embedding(model, tokenizer, s.strip())\n",
    "  embedding_list.append(mbedding)"
   ]
  },
  {
   "cell_type": "code",
   "execution_count": 76,
   "metadata": {
    "scrolled": true
   },
   "outputs": [
    {
     "data": {
      "image/png": "[encoded data removed]",
      "text/plain": [
       "<Figure size 1080x360 with 1 Axes>"
      ]
     },
     "metadata": {
      "needs_background": "light"
     },
     "output_type": "display_data"
    }
   ],
   "source": [
    "pca = PCA(n_components = 2)\n",
    "res = pca.fit_transform(X = embedding_list)\n",
    "plt.figure(figsize = (15,5))\n",
    "plt.scatter(res[:,0], res[:, 1])\n",
    "for i in range(len(sentens)):\n",
    "    plt.text(x = res[i,0], y = res[i, 1], s = sentens[i])"
   ]
  },
  {
   "cell_type": "code",
   "execution_count": null,
   "metadata": {},
   "outputs": [],
   "source": []
  },
  {
   "cell_type": "code",
   "execution_count": null,
   "metadata": {},
   "outputs": [],
   "source": []
  },
  {
   "cell_type": "code",
   "execution_count": 85,
   "metadata": {},
   "outputs": [],
   "source": [
    "f = open('./colorlist.txt')\n",
    "sentens = f.readlines()\n",
    "f.close()\n",
    "\n",
    "color_embedding_list = []\n",
    "for s in sentens:\n",
    "  mbedding = get_embedding(model, tokenizer, s.strip())\n",
    "  color_embedding_list.append(mbedding)"
   ]
  },
  {
   "cell_type": "code",
   "execution_count": 99,
   "metadata": {},
   "outputs": [],
   "source": [
    "test_text = \"\"\"まっかだな　まっかだな\n",
    "つたの　葉っぱが　まっかだな\n",
    "もみじの　葉っぱも　まっかだな\n",
    "沈む　夕日に　てらされて\n",
    "まっかなほっぺたの　君と僕\n",
    "まっかな　秋に　かこまれて　いる\n",
    "\n",
    "まっかだな　まっかだな\n",
    "からすうりって　まっかだな\n",
    "とんぼのせなかも　まっかだな\n",
    "夕焼雲(ゆうやけぐも)を　ゆびさして\n",
    "まっかなほっぺたの　君と僕\n",
    "まっかな　秋に　よびかけて　いる\n",
    "\n",
    "まっかだな　まっかだな\n",
    "ひがん花って　まっかだな\n",
    "遠くの　たき火も　まっかだな\n",
    "お宮の　鳥居(とりい)を　くぐりぬけ\n",
    "まっかなほっぺたの　君と僕\n",
    "まっかな　秋を　たずねて　まわる\"\"\""
   ]
  },
  {
   "cell_type": "code",
   "execution_count": 100,
   "metadata": {},
   "outputs": [],
   "source": [
    "res = get_embedding(model, tokenizer, test_text.strip())"
   ]
  },
  {
   "cell_type": "code",
   "execution_count": 101,
   "metadata": {},
   "outputs": [],
   "source": [
    "embedding_list = color_embedding_list[:]"
   ]
  },
  {
   "cell_type": "code",
   "execution_count": 102,
   "metadata": {},
   "outputs": [],
   "source": [
    "embedding_list.append(res)"
   ]
  },
  {
   "cell_type": "code",
   "execution_count": 103,
   "metadata": {},
   "outputs": [
    {
     "data": {
      "text/plain": [
       "24"
      ]
     },
     "execution_count": 103,
     "metadata": {},
     "output_type": "execute_result"
    }
   ],
   "source": [
    "len(embedding_list)"
   ]
  },
  {
   "cell_type": "code",
   "execution_count": 104,
   "metadata": {
    "scrolled": true
   },
   "outputs": [
    {
     "data": {
      "text/plain": [
       "23"
      ]
     },
     "execution_count": 104,
     "metadata": {},
     "output_type": "execute_result"
    }
   ],
   "source": [
    "len(color_embedding_list)"
   ]
  },
  {
   "cell_type": "code",
   "execution_count": 105,
   "metadata": {
    "scrolled": false
   },
   "outputs": [
    {
     "data": {
      "image/png": "[encoded data removed]",
      "text/plain": [
       "<Figure size 1080x360 with 1 Axes>"
      ]
     },
     "metadata": {
      "needs_background": "light"
     },
     "output_type": "display_data"
    }
   ],
   "source": [
    "pca = PCA(n_components = 2)\n",
    "pca_res = pca.fit_transform(X = embedding_list)\n",
    "plt.figure(figsize = (15,5))\n",
    "plt.scatter(pca_res[:,0], pca_res[:, 1])\n",
    "for i in range(len(sentens)):\n",
    "    plt.text(x = pca_res[i,0], y = pca_res[i, 1], s = sentens[i])"
   ]
  },
  {
   "cell_type": "code",
   "execution_count": 96,
   "metadata": {},
   "outputs": [
    {
     "data": {
      "text/plain": [
       "768"
      ]
     },
     "execution_count": 96,
     "metadata": {},
     "output_type": "execute_result"
    }
   ],
   "source": [
    "len(v)"
   ]
  },
  {
   "cell_type": "code",
   "execution_count": null,
   "metadata": {},
   "outputs": [],
   "source": []
  },
  {
   "cell_type": "code",
   "execution_count": 110,
   "metadata": {},
   "outputs": [],
   "source": [
    "prod = []\n",
    "for v in color_embedding_list:\n",
    "        prod.append(np.linalg.norm(v-res, ord = 2))"
   ]
  },
  {
   "cell_type": "code",
   "execution_count": 111,
   "metadata": {
    "scrolled": true
   },
   "outputs": [
    {
     "data": {
      "text/plain": [
       "[0.5653032,\n",
       " 0.57401186,\n",
       " 0.55397314,\n",
       " 0.54370284,\n",
       " 0.57612836,\n",
       " 0.5600077,\n",
       " 0.5909074,\n",
       " 0.5458143,\n",
       " 0.55506337,\n",
       " 0.5678278,\n",
       " 0.542588,\n",
       " 0.55388606,\n",
       " 0.55910474,\n",
       " 0.55136615,\n",
       " 0.5583315,\n",
       " 0.55745625,\n",
       " 0.5718638,\n",
       " 0.5391745,\n",
       " 0.5917619,\n",
       " 0.5704046,\n",
       " 0.56164473,\n",
       " 0.57466304,\n",
       " 0.5518592]"
      ]
     },
     "execution_count": 111,
     "metadata": {},
     "output_type": "execute_result"
    }
   ],
   "source": [
    "prod"
   ]
  },
  {
   "cell_type": "code",
   "execution_count": 117,
   "metadata": {
    "scrolled": true
   },
   "outputs": [
    {
     "data": {
      "text/plain": [
       "'山葡萄\\n'"
      ]
     },
     "execution_count": 117,
     "metadata": {},
     "output_type": "execute_result"
    }
   ],
   "source": [
    "sentens[np.array(prod).argmin()]"
   ]
  },
  {
   "cell_type": "code",
   "execution_count": null,
   "metadata": {},
   "outputs": [],
   "source": []
  },
  {
   "cell_type": "code",
   "execution_count": 118,
   "metadata": {
    "code_folding": []
   },
   "outputs": [],
   "source": [
    "def choose_color(s):\n",
    "    res = get_embedding(model, tokenizer, s.strip())\n",
    "    prod = []\n",
    "    for v in color_embedding_list:\n",
    "            prod.append(np.linalg.norm(v-res, ord = 2))\n",
    "    return sentens[np.array(prod).argmin()].strip()"
   ]
  },
  {
   "cell_type": "code",
   "execution_count": 119,
   "metadata": {},
   "outputs": [
    {
     "data": {
      "text/plain": [
       "'竹林'"
      ]
     },
     "execution_count": 119,
     "metadata": {},
     "output_type": "execute_result"
    }
   ],
   "source": [
    "choose_color(\"みかん\")"
   ]
  },
  {
   "cell_type": "code",
   "execution_count": 120,
   "metadata": {},
   "outputs": [
    {
     "data": {
      "text/plain": [
       "'稲穂'"
      ]
     },
     "execution_count": 120,
     "metadata": {},
     "output_type": "execute_result"
    }
   ],
   "source": [
    "choose_color(\"カツオ\")"
   ]
  },
  {
   "cell_type": "code",
   "execution_count": 121,
   "metadata": {},
   "outputs": [
    {
     "data": {
      "text/plain": [
       "'竹炭'"
      ]
     },
     "execution_count": 121,
     "metadata": {},
     "output_type": "execute_result"
    }
   ],
   "source": [
    "choose_color(\"焼肉\")"
   ]
  },
  {
   "cell_type": "code",
   "execution_count": 127,
   "metadata": {},
   "outputs": [
    {
     "data": {
      "text/plain": [
       "'夕焼け'"
      ]
     },
     "execution_count": 127,
     "metadata": {},
     "output_type": "execute_result"
    }
   ],
   "source": [
    "s = \"\"\"\n",
    "ともだちができた　すいかの名産地\n",
    "なかよしこよし　すいかの名産地\n",
    "すいかの名産地　すてきなところよ\n",
    "きれいなあの娘の晴れ姿　すいかの名産地\n",
    "\n",
    "五月のある日　すいかの名産地\n",
    "結婚式をあげよう　すいかの名産地\n",
    "すいかの名産地　すてきなところよ\n",
    "きれいなあの娘の晴れ姿　すいかの名産地\n",
    "\n",
    "とんもろこしの花婿　すいかの名産地\n",
    "小麦の花嫁　すいかの名産地\n",
    "すいかの名産地　すてきなところよ\n",
    "きれいなあの娘の晴れ姿　すいかの名産地\n",
    "\"\"\"\n",
    "choose_color(s)"
   ]
  },
  {
   "cell_type": "code",
   "execution_count": null,
   "metadata": {},
   "outputs": [],
   "source": []
  }
 ],
 "metadata": {
  "kernelspec": {
   "display_name": "Python 3",
   "language": "python",
   "name": "python3"
  },
  "language_info": {
   "codemirror_mode": {
    "name": "ipython",
    "version": 3
   },
   "file_extension": ".py",
   "mimetype": "text/x-python",
   "name": "python",
   "nbconvert_exporter": "python",
   "pygments_lexer": "ipython3",
   "version": "3.7.1"
  },
  "toc": {
   "base_numbering": 1,
   "nav_menu": {},
   "number_sections": true,
   "sideBar": true,
   "skip_h1_title": false,
   "title_cell": "Table of Contents",
   "title_sidebar": "Contents",
   "toc_cell": false,
   "toc_position": {},
   "toc_section_display": true,
   "toc_window_display": false
  },
  "varInspector": {
   "cols": {
    "lenName": 16,
    "lenType": 16,
    "lenVar": 40
   },
   "kernels_config": {
    "python": {
     "delete_cmd_postfix": "",
     "delete_cmd_prefix": "del ",
     "library": "var_list.py",
     "varRefreshCmd": "print(var_dic_list())"
    },
    "r": {
     "delete_cmd_postfix": ") ",
     "delete_cmd_prefix": "rm(",
     "library": "var_list.r",
     "varRefreshCmd": "cat(var_dic_list()) "
    }
   },
   "types_to_exclude": [
    "module",
    "function",
    "builtin_function_or_method",
    "instance",
    "_Feature"
   ],
   "window_display": false
  }
 },
 "nbformat": 4,
 "nbformat_minor": 4
}
